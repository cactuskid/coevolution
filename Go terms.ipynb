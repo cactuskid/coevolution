{
 "cells": [
  {
   "cell_type": "code",
   "execution_count": 4,
   "metadata": {},
   "outputs": [],
   "source": [
    "import fastsemsim\n",
    "import tables\n",
    "import datasketch\n",
    "import pickle \n",
    "import pyoma\n",
    "import redis\n",
    "import datasketch"
   ]
  },
  {
   "cell_type": "code",
   "execution_count": 5,
   "metadata": {},
   "outputs": [
    {
     "name": "stdout",
     "output_type": "stream",
     "text": [
      "['Ontology', '__author__', '__builtins__', '__doc__', '__email__', '__file__', '__name__', '__package__', '__path__', '__version__', 'data', 'lines', 'os', 'vh']\n"
     ]
    }
   ],
   "source": [
    "print dir(fastsemsim)"
   ]
  },
  {
   "cell_type": "code",
   "execution_count": null,
   "metadata": {},
   "outputs": [],
   "source": [
    "#kolmogrov compresion based MI for two profiles.\n",
    "import zlib\n",
    "def MI( row1, row2):\n",
    "    MI = len(zlib.compress(row1))/row1.shape[1] + len(zlib.compress(row2))/row2.shape[1] - len(zlib.compress(np.concatenate(row1.flatten() , row2.flatten())))/ /row2.shape[1]+/row2.shape[2]\n",
    "    return MI\n",
    "\n",
    "\n"
   ]
  },
  {
   "cell_type": "code",
   "execution_count": null,
   "metadata": {},
   "outputs": [],
   "source": [
    "omadatalocation = '/data/databases/OMA/OMA.2.1.1/data/OmaServer.h5'\n",
    "forest = '/data/OMAanalysis/ForestALL.pkl'\n",
    "with open(forest , 'r') as hashforest:\n",
    "    lshforest= pickle.load(hashforest)\n",
    "r = redis.StrictRedis(host='localhost', port=6379, db=0)\n",
    "\n",
    "#generate set of random queries\n",
    "for result in query:\n",
    "    #grab all of the prots in the HOG\n",
    "    protcodes = hog_members_from_hog_id(result, 'LUCA')\n",
    "\n",
    "    #grab all uniprot codes in a HOG\n",
    "\n",
    "    #\n",
    "#grab all GO terms for each prot\n",
    "\n",
    "#semantic similarity between two clusters\n",
    "\n",
    "\n",
    "\n"
   ]
  },
  {
   "cell_type": "code",
   "execution_count": null,
   "metadata": {},
   "outputs": [],
   "source": [
    "#compare MI to semsim\n",
    "\n",
    "\n",
    "\n",
    "\n",
    "\n",
    "#compare jaccard to semsim"
   ]
  }
 ],
 "metadata": {
  "kernelspec": {
   "display_name": "Python 2",
   "language": "python",
   "name": "python2"
  },
  "language_info": {
   "codemirror_mode": {
    "name": "ipython",
    "version": 2
   },
   "file_extension": ".py",
   "mimetype": "text/x-python",
   "name": "python",
   "nbconvert_exporter": "python",
   "pygments_lexer": "ipython2",
   "version": "2.7.12"
  }
 },
 "nbformat": 4,
 "nbformat_minor": 2
}
